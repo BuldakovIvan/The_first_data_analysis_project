{
 "cells": [
  {
   "cell_type": "code",
   "execution_count": 1,
   "id": "f3004b12",
   "metadata": {},
   "outputs": [],
   "source": [
    "import sqlite3 as sq\n",
    "import pandas as pd\n",
    "import matplotlib.pyplot as plt\n",
    "# %matplotlib inline"
   ]
  },
  {
   "cell_type": "code",
   "execution_count": 2,
   "id": "0076995e",
   "metadata": {},
   "outputs": [],
   "source": [
    "data_base_name = 'Employee_Data.db'\n",
    "table_one = \"2009_v.1\"\n",
    "table_two = \"2009_v.2\"\n",
    "table_three = \"personal_data\"\n",
    "\n",
    "with sq.connect(data_base_name) as con:\n",
    "    cur = con.cursor()\n",
    "\n",
    "    gender_structure = pd.read_sql(f'''SELECT Sex, count(Sex) as Amount FROM\n",
    "                            (\n",
    "                            SELECT \"Personnel number\", Sex\n",
    "                            from \"{table_two}\" \n",
    "                            GROUP by \"Personnel number\"\n",
    "                            )\n",
    "                        GROUP by Sex''', con)"
   ]
  },
  {
   "cell_type": "code",
   "execution_count": 3,
   "id": "731a556c",
   "metadata": {},
   "outputs": [
    {
     "data": {
      "text/html": [
       "<div>\n",
       "<style scoped>\n",
       "    .dataframe tbody tr th:only-of-type {\n",
       "        vertical-align: middle;\n",
       "    }\n",
       "\n",
       "    .dataframe tbody tr th {\n",
       "        vertical-align: top;\n",
       "    }\n",
       "\n",
       "    .dataframe thead th {\n",
       "        text-align: right;\n",
       "    }\n",
       "</style>\n",
       "<table border=\"1\" class=\"dataframe\">\n",
       "  <thead>\n",
       "    <tr style=\"text-align: right;\">\n",
       "      <th></th>\n",
       "      <th>Sex</th>\n",
       "      <th>Amount</th>\n",
       "    </tr>\n",
       "  </thead>\n",
       "  <tbody>\n",
       "    <tr>\n",
       "      <th>0</th>\n",
       "      <td>Ж</td>\n",
       "      <td>45</td>\n",
       "    </tr>\n",
       "    <tr>\n",
       "      <th>1</th>\n",
       "      <td>М</td>\n",
       "      <td>155</td>\n",
       "    </tr>\n",
       "  </tbody>\n",
       "</table>\n",
       "</div>"
      ],
      "text/plain": [
       "  Sex  Amount\n",
       "0   Ж      45\n",
       "1   М     155"
      ]
     },
     "execution_count": 3,
     "metadata": {},
     "output_type": "execute_result"
    }
   ],
   "source": [
    "gender_structure"
   ]
  },
  {
   "cell_type": "code",
   "execution_count": 4,
   "id": "c2e39235",
   "metadata": {},
   "outputs": [
    {
     "data": {
      "image/png": "[encoded data removed]",
      "text/plain": [
       "<Figure size 432x288 with 1 Axes>"
      ]
     },
     "metadata": {},
     "output_type": "display_data"
    }
   ],
   "source": [
    "    vals = gender_structure['Amount'].tolist()\n",
    "    labels = ['Женщины' if s == 'Ж' else 'Мужчины' for s in gender_structure['Sex'].tolist()]\n",
    "\n",
    "    my = plt.pie(vals,\n",
    "                 colors=('violet', 'dodgerblue'),\n",
    "                 startangle=-45,\n",
    "                 autopct=lambda x: f'{round(x, 1)}%\\n({int(round(x * sum(vals) / 100, 0))} чел.)',\n",
    "                 textprops=dict(color=\"black\", size=10, weight='bold')\n",
    "                 )\n",
    "    plt.title('Cтруктура работников цеха\\nпо половому признаку',\n",
    "              size=12,\n",
    "              weight='bold',\n",
    "              )\n",
    "\n",
    "    plt.legend(labels, bbox_to_anchor=(0.85, 0.95))\n",
    "    \n",
    "    plt.show()"
   ]
  },
  {
   "cell_type": "code",
   "execution_count": null,
   "id": "59e2de85",
   "metadata": {},
   "outputs": [],
   "source": []
  }
 ],
 "metadata": {
  "kernelspec": {
   "display_name": "Python 3 (ipykernel)",
   "language": "python",
   "name": "python3"
  },
  "language_info": {
   "codemirror_mode": {
    "name": "ipython",
    "version": 3
   },
   "file_extension": ".py",
   "mimetype": "text/x-python",
   "name": "python",
   "nbconvert_exporter": "python",
   "pygments_lexer": "ipython3",
   "version": "3.9.1"
  }
 },
 "nbformat": 4,
 "nbformat_minor": 5
}
