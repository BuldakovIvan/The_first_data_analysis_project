{
 "cells": [
  {
   "cell_type": "code",
   "execution_count": 1,
   "id": "f3004b12",
   "metadata": {},
   "outputs": [],
   "source": [
    "import sqlite3 as sq\n",
    "import pandas as pd\n",
    "import matplotlib.pyplot as plt\n",
    "from matplotlib.gridspec import GridSpec as gs\n",
    "from matplotlib.ticker import MultipleLocator\n",
    "# %matplotlib inline"
   ]
  },
  {
   "cell_type": "code",
   "execution_count": 2,
   "id": "0076995e",
   "metadata": {},
   "outputs": [],
   "source": [
    "data_base_name = 'Employee_Data.db'\n",
    "table_one = \"2009_v.1\"\n",
    "table_two = \"2009_v.2\"\n",
    "table_three = \"personal_data\"\n",
    "\n",
    "# creating a sex chart\n",
    "with sq.connect(data_base_name) as con:\n",
    "    # making a selection from the database to create a table 'Cтруктура работников цеха по половому признаку'\n",
    "    gender_structure = pd.read_sql(f'''SELECT Sex, count(Sex) as Amount FROM\n",
    "                            (\n",
    "                            SELECT \"Personnel number\", Sex\n",
    "                            from \"{table_two}\"\n",
    "                            GROUP by \"Personnel number\"\n",
    "                            )\n",
    "                        GROUP by Sex''', con)"
   ]
  },
  {
   "cell_type": "code",
   "execution_count": 3,
   "id": "4a735b7b",
   "metadata": {},
   "outputs": [
    {
     "name": "stdout",
     "output_type": "stream",
     "text": [
      "  Sex  Amount\n",
      "0   Ж      45\n",
      "1   М     155\n"
     ]
    },
    {
     "data": {
      "image/png": "[encoded data removed]",
      "text/plain": [
       "<Figure size 432x288 with 1 Axes>"
      ]
     },
     "metadata": {},
     "output_type": "display_data"
    }
   ],
   "source": [
    "    # data on the number of men and women for the pie chart:\n",
    "    values = gender_structure['Amount'].tolist()\n",
    "\n",
    "    # data for pie chart legend:\n",
    "    labels = ['Женщины' if s == 'Ж' else 'Мужчины' for s in gender_structure['Sex'].tolist()]\n",
    "\n",
    "    # pie chart settings:\n",
    "    my = plt.pie(values,\n",
    "                 colors=('violet', 'dodgerblue'),\n",
    "                 startangle=-45,\n",
    "                 autopct=lambda x: f'{round(x, 1)}%\\n({int(round(x * sum(values) / 100, 0))} чел.)',\n",
    "                 textprops=dict(color=\"black\", size=10, weight='bold')\n",
    "                 )\n",
    "    plt.title('Cтруктура работников цеха\\nпо половому признаку',\n",
    "              size=12,\n",
    "              weight='bold',\n",
    "              )\n",
    "\n",
    "    plt.legend(labels, bbox_to_anchor=(0.85, 0.95))\n",
    "\n",
    "    print(gender_structure)\n",
    "\n",
    "    plt.show()"
   ]
  },
  {
   "cell_type": "code",
   "execution_count": 4,
   "id": "59e2de85",
   "metadata": {},
   "outputs": [],
   "source": [
    "# creating an age chart\n",
    "with sq.connect('Employee_Data.db') as con:\n",
    "    # create a new DataFrame from DataBase:\n",
    "    df = pd.read_sql(f'''select \"Date of birth\", Sex \n",
    "                        from \"{table_two}\"\n",
    "                        group by \"Personnel number\"\n",
    "                        ''', con)\n",
    "\n",
    "    # change the data type in the column \"Date of birth\" from str to datetime:\n",
    "    df['Date of birth'] = pd.to_datetime(df['Date of birth'])\n",
    "\n",
    "    # create data for new df column \"Age\" (employee age in 2009 year):\n",
    "    current_date = pd.to_datetime('2009-12-31')\n",
    "    age = df['Date of birth'].apply(lambda d_of_b: int((current_date - d_of_b).days / 365))\n",
    "\n",
    "    # add new column \"Age\" to DataFrame df:\n",
    "    df['Age'] = age\n",
    "\n",
    "    # delete column \"Date of birth\" from DataFrame df:\n",
    "    df.drop('Date of birth', axis=1, inplace=True)\n",
    "\n",
    "    # create a dictionary with data for the age chart:\n",
    "    age_dict = {}\n",
    "\n",
    "    for df_sex, df_age in df.values:\n",
    "        age_dict.setdefault(df_sex, {'моложе 24': 0,\n",
    "                                     'от 24 до 29': 0,\n",
    "                                     'от 30 до 39': 0,\n",
    "                                     'от 40 до 50': 0,\n",
    "                                     'старше 50': 0})\n",
    "        if df_age < 24:\n",
    "            age_dict[df_sex]['моложе 24'] += 1\n",
    "        if 23 < df_age < 30:\n",
    "            age_dict[df_sex]['от 24 до 29'] += 1\n",
    "        if 29 < df_age < 40:\n",
    "            age_dict[df_sex]['от 30 до 39'] += 1\n",
    "        if 39 < df_age < 51:\n",
    "            age_dict[df_sex]['от 40 до 50'] += 1\n",
    "        if 50 < df_age:\n",
    "            age_dict[df_sex]['старше 50'] += 1\n",
    "\n",
    "    # create a DataFrame with data for the age chart:\n",
    "    age_df = pd.DataFrame(age_dict)\n",
    "\n",
    "    # rename columns:\n",
    "    axe_label = 'Возраст (лет)'\n",
    "    m = 'Мужчины (чел.)'\n",
    "    f = 'Женщины (чел.)'\n",
    "    age_df.rename(columns={'М': f'{m}', 'Ж': f'{f}'}, inplace=True)\n",
    "\n",
    "    # let's call the column with indexes:\n",
    "    age_df.index.names = [f'{axe_label}']"
   ]
  },
  {
   "cell_type": "code",
   "execution_count": 5,
   "id": "c91c9eda",
   "metadata": {},
   "outputs": [
    {
     "name": "stdout",
     "output_type": "stream",
     "text": [
      "               Мужчины (чел.)  Женщины (чел.)\n",
      "Возраст (лет)                                \n",
      "моложе 24                  16               7\n",
      "от 24 до 29                18               8\n",
      "от 30 до 39                42               8\n",
      "от 40 до 50                42               9\n",
      "старше 50                  37              13\n"
     ]
    },
    {
     "data": {
      "image/png": "[encoded data removed]",
      "text/plain": [
       "<Figure size 648x216 with 2 Axes>"
      ]
     },
     "metadata": {
      "needs_background": "light"
     },
     "output_type": "display_data"
    }
   ],
   "source": [
    "    # create the age chart:\n",
    "\n",
    "    # create a 'figure' object to draw diagrams on it:\n",
    "    fig = plt.figure(figsize=(9, 3))\n",
    "\n",
    "    # create a grid on the 'figure' object to form cells for diagrams:\n",
    "    gridsp = gs(ncols=50,  # number of columns\n",
    "                nrows=1,  # number of rows\n",
    "                figure=fig)\n",
    "\n",
    "    # set the gap width between cells:\n",
    "    plt.subplots_adjust(wspace=0)\n",
    "\n",
    "    # set the size of the first diagram (i.e. in which cells it will be located) on the 'figure' object:\n",
    "    ax1 = plt.subplot(gridsp[0, :37])\n",
    "\n",
    "    # set the boundary values along the X axis:\n",
    "    plt.xlim([0, age_df[f'{m}'].to_numpy().max() + 3])\n",
    "\n",
    "    # set the scale step along the X axis:\n",
    "    ax1.xaxis.set_major_locator(MultipleLocator(base=2))\n",
    "\n",
    "    # turn the X-axis in the opposite direction:\n",
    "    ax1.invert_xaxis()\n",
    "\n",
    "    # turn the Y-axis in the opposite direction:\n",
    "    ax1.invert_yaxis()\n",
    "\n",
    "    # set the parameters of the first diagram (see the documentation for \"pyplot.barh\"):\n",
    "    plt.barh(age_df.index.to_numpy(), age_df[f'{m}'],\n",
    "             color='dodgerblue',\n",
    "             height=1,\n",
    "             edgecolor='dimgrey',\n",
    "             linewidth=0.5,\n",
    "             )\n",
    "    # hide unnecessary chart axes (boundaries of the field in which the chart is built):\n",
    "    ax1.spines['top'].set_visible(False)  # upper bound\n",
    "    ax1.spines['right'].set_visible(False)  # right border\n",
    "\n",
    "    # set the parameters (in this case, the font size) of the labels on the axes:\n",
    "    plt.tick_params(axis='both', which='major', labelsize=9)\n",
    "\n",
    "    # set the dimensions of the second diagram (i.e. in which cells it will be located) on the 'figure' object:\n",
    "    ax2 = plt.subplot(gridsp[0, 37:], yticks=[])  # 'yticks' hides labels along the axis Y\n",
    "\n",
    "    # set the boundary values along the X axis:\n",
    "    plt.xlim([0, age_df[f'{f}'].to_numpy().max() + 2])\n",
    "\n",
    "    # set the scale step along the X axis:\n",
    "    ax2.xaxis.set_major_locator(MultipleLocator(base=2))\n",
    "\n",
    "    # turn the Y-axis in the opposite direction:\n",
    "    ax2.invert_yaxis()\n",
    "\n",
    "    # set the parameters of the second diagram (see the documentation for \"pyplot.barh\"):\n",
    "    plt.barh(age_df.index.to_numpy(), age_df[f'{f}'],\n",
    "             color='violet',\n",
    "             height=1,\n",
    "             edgecolor='dimgrey',\n",
    "             linewidth=0.5,\n",
    "             )\n",
    "\n",
    "    # hide unnecessary chart axes (boundaries of the field in which the chart is built):\n",
    "    ax2.spines['top'].set_visible(False)  # upper bound\n",
    "    ax2.spines['right'].set_visible(False)  # right border\n",
    "\n",
    "    # set the parameters (in this case, the font size) of the labels on the axes:\n",
    "    plt.tick_params(axis='x', which='major', labelsize=9)\n",
    "\n",
    "    # add text to the object 'figure':\n",
    "    fig.suptitle('Возрастная структура работников цеха',  # name of the finished chart\n",
    "                 size=12,\n",
    "                 weight='bold',\n",
    "                 y=0.99\n",
    "                 )\n",
    "    plt.figtext(0.55, 0.87, f'{m}', weight='bold', size=9)  # labeling of the left diagram\n",
    "    plt.figtext(0.715, 0.87, f'{f}', weight='bold', size=9)  # labeling of the right diagram\n",
    "    plt.figtext(0.01, 0.87, f'{axe_label}', weight='bold', size=9)  # name of Y-axis\n",
    "\n",
    "    print(age_df)\n",
    "    plt.show()\n"
   ]
  }
 ],
 "metadata": {
  "kernelspec": {
   "display_name": "Python 3 (ipykernel)",
   "language": "python",
   "name": "python3"
  },
  "language_info": {
   "codemirror_mode": {
    "name": "ipython",
    "version": 3
   },
   "file_extension": ".py",
   "mimetype": "text/x-python",
   "name": "python",
   "nbconvert_exporter": "python",
   "pygments_lexer": "ipython3",
   "version": "3.9.1"
  }
 },
 "nbformat": 4,
 "nbformat_minor": 5
}
